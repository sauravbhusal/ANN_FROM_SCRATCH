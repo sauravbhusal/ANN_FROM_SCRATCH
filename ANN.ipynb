{
 "cells": [
  {
   "cell_type": "code",
   "execution_count": 4,
   "id": "5b1118c1",
   "metadata": {},
   "outputs": [],
   "source": [
    "import numpy as np\n"
   ]
  },
  {
   "cell_type": "code",
   "execution_count": 5,
   "id": "48e48ba1",
   "metadata": {},
   "outputs": [],
   "source": [
    "\n",
    "np.random.seed(0)     #Random number generated remains the same across multiple runs\n",
    "    \n",
    "X= [[1, 2, 3, 2.5],                            #manually providing the input dataset   \n",
    "    [2.0, 5.0, -1.0, 2.0],\n",
    "    [-1.5, 2.7, 3.3, -0.8]]\n"
   ]
  },
  {
   "cell_type": "code",
   "execution_count": 9,
   "id": "1022f544-55f5-4ab9-86fb-cdd26010dba8",
   "metadata": {},
   "outputs": [],
   "source": [
    "class Layer_Dense:\n",
    "    def __init__(self, n_inputs, n_neurons):\n",
    "        self.weights = np.random.randn(n_inputs, n_neurons)\n",
    "        self.biases = np.zeros((1, n_neurons))\n",
    "    def forward(self,inputs):\n",
    "        self.output = np.dot(inputs, self.weights) + self.biases\n"
   ]
  },
  {
   "cell_type": "code",
   "execution_count": 16,
   "id": "a1bd9ddc-19c5-46c0-974f-e867d0de760d",
   "metadata": {},
   "outputs": [
    {
     "name": "stdout",
     "output_type": "stream",
     "text": [
      "[[ -4.38550241 -10.33795322]\n",
      " [ -4.81772474  -4.36355877]\n",
      " [ -0.67810845  -1.67709835]]\n",
      "[[ -3.28123419  14.67139537 -11.10833691]\n",
      " [ -3.23981842  10.9453994   -1.41241994]\n",
      " [ -0.5114607    2.32668871  -1.83889556]]\n"
     ]
    }
   ],
   "source": [
    "layer1 = Layer_Dense(4,2)           #defining the no. of inputs and no. of neurons of the layer1\n",
    "layer2 = Layer_Dense(2,3)           #defining the no. of inputs and no. of neurons of the layer2\n",
    "\n",
    "layer1.forward(X)                   #calculating the output of layer1\n",
    "print(layer1.output)                  \n",
    "layer2.forward(layer1.output)       #calculating the output of layer2 by using inputs as the output of layer1\n",
    "print(layer2.output)"
   ]
  },
  {
   "cell_type": "code",
   "execution_count": null,
   "id": "4d0828c5-505a-459f-a002-6001bbcdf226",
   "metadata": {},
   "outputs": [],
   "source": []
  }
 ],
 "metadata": {
  "kernelspec": {
   "display_name": "Python 3 (ipykernel)",
   "language": "python",
   "name": "python3"
  },
  "language_info": {
   "codemirror_mode": {
    "name": "ipython",
    "version": 3
   },
   "file_extension": ".py",
   "mimetype": "text/x-python",
   "name": "python",
   "nbconvert_exporter": "python",
   "pygments_lexer": "ipython3",
   "version": "3.10.12"
  }
 },
 "nbformat": 4,
 "nbformat_minor": 5
}
